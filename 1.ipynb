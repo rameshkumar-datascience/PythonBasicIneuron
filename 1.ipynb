{
 "cells": [
  {
   "cell_type": "code",
   "execution_count": null,
   "id": "ee2fa204",
   "metadata": {},
   "outputs": [],
   "source": [
    "1. In the below elements which of them are values or an expression? eg:- values can be integer or string and expressions will be mathematical operators?\n",
    "\n",
    "*\n",
    "'hello'\n",
    "-87.8\n",
    "-\n",
    "/\n",
    "+\n",
    "6"
   ]
  },
  {
   "cell_type": "code",
   "execution_count": null,
   "id": "c0aa094f",
   "metadata": {},
   "outputs": [],
   "source": [
    "ans: * is a multiplication operator\n",
    "     'hello' is a string value\n",
    "     -87.8 is a float value\n",
    "     -  is a substraction operator\n",
    "     +  is a addition operator\n",
    "     6  is a integer value"
   ]
  },
  {
   "cell_type": "code",
   "execution_count": null,
   "id": "327bb3a0",
   "metadata": {},
   "outputs": [],
   "source": [
    "2) What is the difference between string and variable?"
   ]
  },
  {
   "cell_type": "code",
   "execution_count": null,
   "id": "a2efdb63",
   "metadata": {},
   "outputs": [],
   "source": [
    "ans: String is a collection of characters, it is represented inside ' ' eg: 'INeuron'\n",
    "    whereas variable is just like a container to store that string value.\n",
    "    eg: EdIT = 'INeuron'\n",
    "        EdIT is a variable and 'INeuron' is string value"
   ]
  },
  {
   "cell_type": "code",
   "execution_count": null,
   "id": "c0b80dae",
   "metadata": {},
   "outputs": [],
   "source": [
    "3) Describe three different data types?"
   ]
  },
  {
   "cell_type": "code",
   "execution_count": null,
   "id": "82162903",
   "metadata": {},
   "outputs": [],
   "source": [
    "ans: There are different types of datatypes in python.\n",
    "\n",
    "     Integer: Integer is just a number without decimals    eg: 12\n",
    "     float: float is a number with decimal values in it    eg: 12.05\n",
    "     string: String is a collection of alphabetical words  eg: 'INeuron'\n",
    "     boolean: boolean represent either True or False       eg:  True, False\n",
    "     complex: Complex datatype is combination of real and imaginary value  eg: 2+3j\n",
    "     list:    list is a collection of heterogeneous values inside [ ], allows duplicate values.\n",
    "              mutable,sortable, we can access using indexing, slicing :eg:  [1,2,3,'Ramesh','Ineuron']\n",
    "     tuple:   tuple is a collection of heterogeneous values inside ( ),  \n",
    "              immutable,sortable, we can access using indexing, slicing, allows duplicates.:eg: (1,2,3,'Ramesh','Ineuron')\n",
    "     set:     Set is collection of heterogeneous datatype, unsortable, immutable, does not allow duplicates\n",
    "              eg: {1,2,3,'Ram'}\n",
    "     dictionary: Dictionary is also collection of heterogeneous values, this data is associated interms of keyvalue pair,\n",
    "                 we can access a value using its corresponding key. this also doesnot allow duplicates"
   ]
  },
  {
   "cell_type": "code",
   "execution_count": null,
   "id": "6d42f7c2",
   "metadata": {},
   "outputs": [],
   "source": [
    "4) What is an expression made up of? What do all expressions do?"
   ]
  },
  {
   "cell_type": "code",
   "execution_count": null,
   "id": "2284e8d2",
   "metadata": {},
   "outputs": [],
   "source": [
    "ans: Expression is a operator, which is responsible to do some mathematical operation between operands.\n",
    "     + - * /\n",
    "     a+b addition\n",
    "     a-b subtraction\n",
    "     a*b multiplication\n",
    "     a/b division"
   ]
  },
  {
   "cell_type": "code",
   "execution_count": null,
   "id": "9295f4ac",
   "metadata": {},
   "outputs": [],
   "source": [
    "5) This assignment statements, like spam = 10. What is the difference between an\n",
    "   expression and a statement?"
   ]
  },
  {
   "cell_type": "code",
   "execution_count": null,
   "id": "0d4bae1b",
   "metadata": {},
   "outputs": [],
   "source": [
    "Expression is resposnible to perform mathematical operation between operands --> spam+1--> 11 here + is an expression\n",
    "statement is like assigning a value to a variable  spam=10"
   ]
  },
  {
   "cell_type": "code",
   "execution_count": null,
   "id": "9d9b33d5",
   "metadata": {},
   "outputs": [],
   "source": [
    "6) After running the following code, what does the variable bacon contain?\n",
    "   bacon = 22\n",
    "   bacon + 1"
   ]
  },
  {
   "cell_type": "code",
   "execution_count": null,
   "id": "00ddee11",
   "metadata": {},
   "outputs": [],
   "source": [
    "ans: bacon+1 ---> 23"
   ]
  },
  {
   "cell_type": "code",
   "execution_count": 7,
   "id": "3ecec92d",
   "metadata": {},
   "outputs": [
    {
     "data": {
      "text/plain": [
       "23"
      ]
     },
     "execution_count": 7,
     "metadata": {},
     "output_type": "execute_result"
    }
   ],
   "source": [
    "bacon = 22\n",
    "bacon+1"
   ]
  },
  {
   "cell_type": "code",
   "execution_count": null,
   "id": "ba78ebf1",
   "metadata": {},
   "outputs": [],
   "source": [
    "7) What should the values of the following two terms be?\n",
    "   'spam'+'spamspam'\n",
    "   'spam'*3"
   ]
  },
  {
   "cell_type": "code",
   "execution_count": null,
   "id": "400cf08f",
   "metadata": {},
   "outputs": [],
   "source": [
    "ans: 'spam'+'spamspam'-----> spamspamspam\n",
    "     'spam'*3 -------------->spamspamspam"
   ]
  },
  {
   "cell_type": "code",
   "execution_count": 5,
   "id": "1596d458",
   "metadata": {},
   "outputs": [
    {
     "data": {
      "text/plain": [
       "'spamspamspam'"
      ]
     },
     "execution_count": 5,
     "metadata": {},
     "output_type": "execute_result"
    }
   ],
   "source": [
    "'spam'+'spamspam'"
   ]
  },
  {
   "cell_type": "code",
   "execution_count": 6,
   "id": "39178af6",
   "metadata": {},
   "outputs": [
    {
     "data": {
      "text/plain": [
       "'spamspamspam'"
      ]
     },
     "execution_count": 6,
     "metadata": {},
     "output_type": "execute_result"
    }
   ],
   "source": [
    "'spam'*3"
   ]
  },
  {
   "cell_type": "code",
   "execution_count": null,
   "id": "874cbb98",
   "metadata": {},
   "outputs": [],
   "source": [
    "8) Why is eggs a valid variable name while 100 is invalid?"
   ]
  },
  {
   "cell_type": "code",
   "execution_count": null,
   "id": "b9617d89",
   "metadata": {},
   "outputs": [],
   "source": [
    "ans: A variable name must start with a letter or the underscore character. A variable name cannot start with a number."
   ]
  },
  {
   "cell_type": "code",
   "execution_count": null,
   "id": "72b9e7a0",
   "metadata": {},
   "outputs": [],
   "source": [
    "9) What three functions can be used to get the integer, floating-point number, or string\n",
    "version of a value?"
   ]
  },
  {
   "cell_type": "code",
   "execution_count": null,
   "id": "520d040f",
   "metadata": {},
   "outputs": [],
   "source": [
    "ans: int()\n",
    "     float()\n",
    "     str()"
   ]
  },
  {
   "cell_type": "code",
   "execution_count": null,
   "id": "4fb3c657",
   "metadata": {},
   "outputs": [],
   "source": [
    "10) Why does this expression cause an error? How can you fix it?\n",
    "    'I have eaten'+99+'burritos'"
   ]
  },
  {
   "cell_type": "code",
   "execution_count": null,
   "id": "77721770",
   "metadata": {},
   "outputs": [],
   "source": [
    "   We cannot concatenate string with a integer datatype\n",
    "   we must typecast integer to str before doing concanetation operation\n",
    "   we can fix that with below:\n",
    "   \n",
    "   'I have eaten'+'99'+'burritos'"
   ]
  },
  {
   "cell_type": "code",
   "execution_count": 11,
   "id": "d960b270",
   "metadata": {},
   "outputs": [
    {
     "data": {
      "text/plain": [
       "'I have eaten99burritos'"
      ]
     },
     "execution_count": 11,
     "metadata": {},
     "output_type": "execute_result"
    }
   ],
   "source": [
    "  'I have eaten'+'99'+'burritos'"
   ]
  },
  {
   "cell_type": "code",
   "execution_count": null,
   "id": "784aea43",
   "metadata": {},
   "outputs": [],
   "source": []
  }
 ],
 "metadata": {
  "kernelspec": {
   "display_name": "Python 3 (ipykernel)",
   "language": "python",
   "name": "python3"
  },
  "language_info": {
   "codemirror_mode": {
    "name": "ipython",
    "version": 3
   },
   "file_extension": ".py",
   "mimetype": "text/x-python",
   "name": "python",
   "nbconvert_exporter": "python",
   "pygments_lexer": "ipython3",
   "version": "3.9.7"
  }
 },
 "nbformat": 4,
 "nbformat_minor": 5
}
