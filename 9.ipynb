{
 "cells": [
  {
   "cell_type": "code",
   "execution_count": null,
   "id": "510a2973",
   "metadata": {},
   "outputs": [],
   "source": [
    "1. To what does a relative path refer?"
   ]
  },
  {
   "cell_type": "code",
   "execution_count": null,
   "id": "d3f65ccd",
   "metadata": {},
   "outputs": [],
   "source": [
    "ans: Relative path means preset working directory\n",
    "     we can get it simply by pwd command"
   ]
  },
  {
   "cell_type": "code",
   "execution_count": null,
   "id": "c7bdd108",
   "metadata": {},
   "outputs": [],
   "source": [
    "2. What does an absolute path start with your operating system?"
   ]
  },
  {
   "cell_type": "code",
   "execution_count": null,
   "id": "51a0f6f5",
   "metadata": {},
   "outputs": [],
   "source": [
    "ans: my OS's absolute path is starting from C:\\"
   ]
  },
  {
   "cell_type": "code",
   "execution_count": null,
   "id": "355b69ac",
   "metadata": {},
   "outputs": [],
   "source": [
    "3. What do the functions os.getcwd() and os.chdir() do?"
   ]
  },
  {
   "cell_type": "code",
   "execution_count": 1,
   "id": "cfebfab3",
   "metadata": {},
   "outputs": [],
   "source": [
    "ans: os.getcwd(): We will get the current working directory\n",
    "     os.chdir() : is used to change the directory, we need to pass changing working as an arguement to os.chdir(arguement)"
   ]
  },
  {
   "cell_type": "code",
   "execution_count": null,
   "id": "4b87de4a",
   "metadata": {},
   "outputs": [],
   "source": [
    "4. What are the . and .. folders?"
   ]
  },
  {
   "cell_type": "code",
   "execution_count": null,
   "id": "2da14c29",
   "metadata": {},
   "outputs": [],
   "source": [
    "ans:\n",
    "    . represents the current working directory\n",
    "    .. represents the parent directory"
   ]
  },
  {
   "cell_type": "code",
   "execution_count": null,
   "id": "256651cd",
   "metadata": {},
   "outputs": [],
   "source": [
    "5. In C:\\bacon\\eggs\\spam.txt, which part is the dir name, and which part is the base name?"
   ]
  },
  {
   "cell_type": "code",
   "execution_count": 4,
   "id": "0248bdf7",
   "metadata": {},
   "outputs": [],
   "source": [
    "ans:\n",
    "dir name: spam.txt is the base name of given example\n",
    "base name: C:\\bacon\\eggs\\ is the directory name of given example"
   ]
  },
  {
   "cell_type": "code",
   "execution_count": null,
   "id": "bda27829",
   "metadata": {},
   "outputs": [],
   "source": [
    "6. What are the three “mode” arguments that can be passed to the open() function?"
   ]
  },
  {
   "cell_type": "code",
   "execution_count": null,
   "id": "64bc55aa",
   "metadata": {},
   "outputs": [],
   "source": [
    "ans:\n",
    "    read mode  (r)\n",
    "    write mode (w)\n",
    "    reading+writing (r+)\n",
    "    writing+reading (w+)\n",
    "    reading in binary format (rb)"
   ]
  },
  {
   "cell_type": "code",
   "execution_count": null,
   "id": "bf1fa079",
   "metadata": {},
   "outputs": [],
   "source": [
    "7. What happens if an existing file is opened in write mode?"
   ]
  },
  {
   "cell_type": "code",
   "execution_count": null,
   "id": "cb5d8996",
   "metadata": {},
   "outputs": [],
   "source": [
    "ans:\n",
    "    if we opened a file in write mode, then we can insert some information into that file by write() function "
   ]
  },
  {
   "cell_type": "code",
   "execution_count": null,
   "id": "d65f1fa7",
   "metadata": {},
   "outputs": [],
   "source": [
    "8. How do you tell the difference between read() and readlines()?"
   ]
  },
  {
   "cell_type": "code",
   "execution_count": null,
   "id": "f76178dc",
   "metadata": {},
   "outputs": [],
   "source": [
    "ans:\n",
    "    read() will give the entire file as string value\n",
    "    readlines() will give list of all string values"
   ]
  },
  {
   "cell_type": "code",
   "execution_count": null,
   "id": "6c6c9a75",
   "metadata": {},
   "outputs": [],
   "source": [
    "9. What data structure does a shelf value resemble?"
   ]
  },
  {
   "cell_type": "code",
   "execution_count": null,
   "id": "66c11798",
   "metadata": {},
   "outputs": [],
   "source": [
    "shelf value consist of keys and values it resembles a Dictionary"
   ]
  }
 ],
 "metadata": {
  "kernelspec": {
   "display_name": "Python 3 (ipykernel)",
   "language": "python",
   "name": "python3"
  },
  "language_info": {
   "codemirror_mode": {
    "name": "ipython",
    "version": 3
   },
   "file_extension": ".py",
   "mimetype": "text/x-python",
   "name": "python",
   "nbconvert_exporter": "python",
   "pygments_lexer": "ipython3",
   "version": "3.9.7"
  }
 },
 "nbformat": 4,
 "nbformat_minor": 5
}
