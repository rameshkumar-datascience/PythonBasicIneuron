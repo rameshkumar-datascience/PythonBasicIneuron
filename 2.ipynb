{
 "cells": [
  {
   "cell_type": "code",
   "execution_count": null,
   "id": "51bbc042",
   "metadata": {},
   "outputs": [],
   "source": [
    "1) What are the two values of the Boolean data type? How do you write them?"
   ]
  },
  {
   "cell_type": "code",
   "execution_count": null,
   "id": "b2d3ba7d",
   "metadata": {},
   "outputs": [],
   "source": [
    "ans: Two types of boolean values are\n",
    "     True\n",
    "     False"
   ]
  },
  {
   "cell_type": "code",
   "execution_count": null,
   "id": "7db94fba",
   "metadata": {},
   "outputs": [],
   "source": [
    "2) What are the three different types of Boolean operators?"
   ]
  },
  {
   "cell_type": "code",
   "execution_count": null,
   "id": "a7b57384",
   "metadata": {},
   "outputs": [],
   "source": [
    "and\n",
    "or\n",
    "not \n",
    "\n",
    "this above operates returns boolean values True, False "
   ]
  },
  {
   "cell_type": "code",
   "execution_count": null,
   "id": "b2467e05",
   "metadata": {},
   "outputs": [],
   "source": [
    "3) Make a list of each Boolean operator's truth tables (i.e. every possible combination of Boolean\n",
    "values for the operator and what it evaluate )."
   ]
  },
  {
   "cell_type": "code",
   "execution_count": null,
   "id": "b442028f",
   "metadata": {},
   "outputs": [],
   "source": [
    "and truthtable:\n",
    "    \n",
    "A  B  result\n",
    "------------\n",
    "0  0   False\n",
    "0  1   False\n",
    "1  0   False\n",
    "1  1   True\n",
    "-----------\n",
    "\n",
    "or truthtable:\n",
    "    \n",
    "A  B  result\n",
    "------------\n",
    "0  0   False\n",
    "0  1   True\n",
    "1  0   True\n",
    "1  1   True\n",
    "-----------\n",
    "\n",
    "not truthtable:\n",
    "\n",
    "A   result\n",
    "----------\n",
    "0   True\n",
    "1   False"
   ]
  },
  {
   "cell_type": "code",
   "execution_count": null,
   "id": "89035c97",
   "metadata": {},
   "outputs": [],
   "source": [
    "4) What are the values of the following expressions?\n",
    "(5 > 4) and (3 == 5)\n",
    "not (5 > 4)\n",
    "(5 > 4) or (3 == 5)\n",
    "not ((5 > 4) or (3 == 5))\n",
    "(True and True) and (True == False)\n",
    "(not False) or (not True)"
   ]
  },
  {
   "cell_type": "code",
   "execution_count": null,
   "id": "541ea90f",
   "metadata": {},
   "outputs": [],
   "source": [
    "ans:\n",
    "    (5 > 4) and (3 == 5)  -----------> False\n",
    "    not (5 > 4)   ------------------>  False\n",
    "    (5 > 4) or (3 == 5)   -----------> True\n",
    "    not ((5 > 4) or (3 == 5))--------> False\n",
    "    (True and True) and (True == False)--> False\n",
    "    (not False) or (not True) False  -----> True"
   ]
  },
  {
   "cell_type": "code",
   "execution_count": null,
   "id": "516d7ea6",
   "metadata": {},
   "outputs": [],
   "source": [
    "5) What are the six comparison operators?"
   ]
  },
  {
   "cell_type": "code",
   "execution_count": null,
   "id": "3cadc38b",
   "metadata": {},
   "outputs": [],
   "source": [
    "Operator Name          Example\n",
    "-------------------------------\n",
    "==      Equal           x == y\n",
    "!=      Notequal        x!= y\n",
    ">       Greaterthan     x > y\n",
    "<       Lessthan        x < y\n",
    ">=      Greaterthan or equal to x >= y\n",
    "<=      Lessthan or equal to    x <= y"
   ]
  },
  {
   "cell_type": "code",
   "execution_count": null,
   "id": "c704ee6b",
   "metadata": {},
   "outputs": [],
   "source": [
    "6) How do you tell the difference between the equal to and assignment operators?\n",
    "   Describe a condition and when you would use one."
   ]
  },
  {
   "cell_type": "code",
   "execution_count": null,
   "id": "d6c30e85",
   "metadata": {},
   "outputs": [],
   "source": [
    "ans: assignment operator assigns a value to a variable   A=10 (Here we are assigning 10 value to A variable)\n",
    "     Equal to operator compares to variables. if value in both variables same then it returns True otherwise it returns False\n",
    "        \n",
    "     eg: A = 200 (assining 200 to A)\n",
    "         B = 200 (assining 200 to B)\n",
    "         C = (A == B) comparing 2 variables\n",
    "         value in both variables are same so it returns True, and True will be stored in C variable"
   ]
  },
  {
   "cell_type": "code",
   "execution_count": null,
   "id": "92df5d03",
   "metadata": {},
   "outputs": [],
   "source": [
    "7) Identify the three blocks in this code:\n",
    "spam = 0\n",
    "if spam == 10:\n",
    "print('eggs')\n",
    "if spam>5:\n",
    "print('bacon')\n",
    "else:\n",
    "print('ham')\n",
    "print('spam')\n",
    "print('spam')"
   ]
  },
  {
   "cell_type": "code",
   "execution_count": 3,
   "id": "753aff93",
   "metadata": {},
   "outputs": [
    {
     "name": "stdout",
     "output_type": "stream",
     "text": [
      "ham\n",
      "spam\n",
      "spam\n"
     ]
    }
   ],
   "source": [
    "spam = 0\n",
    "if spam == 10:\n",
    "    print('eggs')\n",
    "if spam>5:\n",
    "    print('bacon')\n",
    "else:\n",
    "    print('ham')\n",
    "    print('spam')\n",
    "    print('spam')"
   ]
  },
  {
   "cell_type": "code",
   "execution_count": null,
   "id": "6bab6865",
   "metadata": {},
   "outputs": [],
   "source": [
    "8) Write code that prints Hello if 1 is stored in spam, prints Howdy if 2 is stored in spam, and prints\n",
    "Greetings! if anything else is stored in spam."
   ]
  },
  {
   "cell_type": "code",
   "execution_count": 6,
   "id": "e1c923a2",
   "metadata": {},
   "outputs": [
    {
     "name": "stdout",
     "output_type": "stream",
     "text": [
      "345\n",
      "Greetings!\n"
     ]
    }
   ],
   "source": [
    "spam = int(input())\n",
    "if(spam ==1):\n",
    "    print(\"Hello\")\n",
    "elif(spam ==2):\n",
    "    print(\"Howdy\")  \n",
    "else:\n",
    "    print(\"Greetings!\")"
   ]
  },
  {
   "cell_type": "code",
   "execution_count": null,
   "id": "6c3b4fad",
   "metadata": {},
   "outputs": [],
   "source": [
    "9) If your programme is stuck in an endless loop, what keys you’ll press?"
   ]
  },
  {
   "cell_type": "code",
   "execution_count": null,
   "id": "9a3bbf4a",
   "metadata": {},
   "outputs": [],
   "source": [
    "ans:\n",
    "    If i use jupyter notebook then i will interrupt the kernel, if i use any other IDE's they i will press CTRL+C\n",
    "\n",
    "\"\"\"while(1):\n",
    "    print(\"Hi INeuron\")\"\"\""
   ]
  },
  {
   "cell_type": "code",
   "execution_count": null,
   "id": "8dc66e45",
   "metadata": {},
   "outputs": [],
   "source": [
    "10) How can you tell the difference between break and continue?"
   ]
  },
  {
   "cell_type": "code",
   "execution_count": null,
   "id": "396d0fd3",
   "metadata": {},
   "outputs": [],
   "source": [
    "break: when break keyword  executed in a loop,it will break the loop and comeout of the loop\n",
    "continue: continue keyword is used to skip the current condition and directly go to run the loop again."
   ]
  },
  {
   "cell_type": "code",
   "execution_count": null,
   "id": "63fc0050",
   "metadata": {},
   "outputs": [],
   "source": [
    "11) In a for loop, what is the difference between range(10), range(0, 10), and range(0, 10, 1)?"
   ]
  },
  {
   "cell_type": "code",
   "execution_count": null,
   "id": "ec483e2c",
   "metadata": {},
   "outputs": [],
   "source": [
    "ans:\n",
    "range(start,end,step)\n",
    "range(10) ----> it will generates values from 0 to 9\n",
    "range(0,10)---> it will generates values from 0 to 9  (1 is inbuilt step)\n",
    "range(0,10,1)-->it will also generates values from 0 to 9"
   ]
  },
  {
   "cell_type": "code",
   "execution_count": null,
   "id": "2f974952",
   "metadata": {},
   "outputs": [],
   "source": [
    "12) Write a short program that prints the numbers 1 to 10 using a for loop. Then write an equivalent\n",
    "program that prints the numbers 1 to 10 using a while loop?"
   ]
  },
  {
   "cell_type": "code",
   "execution_count": 8,
   "id": "17939926",
   "metadata": {},
   "outputs": [
    {
     "name": "stdout",
     "output_type": "stream",
     "text": [
      "1\n",
      "2\n",
      "3\n",
      "4\n",
      "5\n",
      "6\n",
      "7\n",
      "8\n",
      "9\n",
      "10\n"
     ]
    }
   ],
   "source": [
    "for i in range(1,11):\n",
    "    print(i)"
   ]
  },
  {
   "cell_type": "code",
   "execution_count": 2,
   "id": "c9627154",
   "metadata": {},
   "outputs": [
    {
     "name": "stdout",
     "output_type": "stream",
     "text": [
      "1\n",
      "2\n",
      "3\n",
      "4\n",
      "5\n",
      "6\n",
      "7\n",
      "8\n",
      "9\n",
      "10\n"
     ]
    }
   ],
   "source": [
    "a=1\n",
    "while(a<=10):\n",
    "    print(a)\n",
    "    a=a+1"
   ]
  },
  {
   "cell_type": "code",
   "execution_count": null,
   "id": "8b671d51",
   "metadata": {},
   "outputs": [],
   "source": [
    "13) If you had a function named bacon() inside a module named spam, how would you call it after\n",
    "importing spam?"
   ]
  },
  {
   "cell_type": "code",
   "execution_count": null,
   "id": "0dda1988",
   "metadata": {},
   "outputs": [],
   "source": [
    "import spam\n",
    "spam.bacon()"
   ]
  }
 ],
 "metadata": {
  "kernelspec": {
   "display_name": "Python 3 (ipykernel)",
   "language": "python",
   "name": "python3"
  },
  "language_info": {
   "codemirror_mode": {
    "name": "ipython",
    "version": 3
   },
   "file_extension": ".py",
   "mimetype": "text/x-python",
   "name": "python",
   "nbconvert_exporter": "python",
   "pygments_lexer": "ipython3",
   "version": "3.9.7"
  }
 },
 "nbformat": 4,
 "nbformat_minor": 5
}
