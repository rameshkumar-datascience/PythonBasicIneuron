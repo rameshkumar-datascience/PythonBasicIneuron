{
 "cells": [
  {
   "cell_type": "code",
   "execution_count": null,
   "id": "150c797a",
   "metadata": {},
   "outputs": [],
   "source": [
    "1. What exactly is []?"
   ]
  },
  {
   "cell_type": "code",
   "execution_count": null,
   "id": "e285f827",
   "metadata": {},
   "outputs": [],
   "source": [
    "ans: [] represents the list\n",
    "    eg: a = [] it means i defined a as an empty list"
   ]
  },
  {
   "cell_type": "code",
   "execution_count": null,
   "id": "3c945657",
   "metadata": {},
   "outputs": [],
   "source": [
    "2. In a list of values stored in a variable called spam, how would you assign the value 'hello' as the\n",
    "third value? (Assume [2, 4, 6, 8, 10] are in spam.)"
   ]
  },
  {
   "cell_type": "code",
   "execution_count": 3,
   "id": "3dd49d9f",
   "metadata": {},
   "outputs": [],
   "source": [
    "ans: spam.insert(3,'hello') --> spam=[2, 4, 6,'hello', 8, 10]"
   ]
  },
  {
   "cell_type": "code",
   "execution_count": null,
   "id": "603f2af5",
   "metadata": {},
   "outputs": [],
   "source": [
    "Let's pretend the spam includes the list ['a','b','c','d'] for the next three queries."
   ]
  },
  {
   "cell_type": "code",
   "execution_count": null,
   "id": "11127640",
   "metadata": {},
   "outputs": [],
   "source": [
    "3. What is the value of spam[int(int('3'* 2) / 11)]?"
   ]
  },
  {
   "cell_type": "code",
   "execution_count": 3,
   "id": "b370243a",
   "metadata": {},
   "outputs": [
    {
     "data": {
      "text/plain": [
       "'d'"
      ]
     },
     "execution_count": 3,
     "metadata": {},
     "output_type": "execute_result"
    }
   ],
   "source": [
    "ans: value of spam[int(int('3'* 2) / 11)] will be 'd'"
   ]
  },
  {
   "cell_type": "code",
   "execution_count": null,
   "id": "7ad20a26",
   "metadata": {},
   "outputs": [],
   "source": [
    "4. What is the value of spam[-1]?"
   ]
  },
  {
   "cell_type": "code",
   "execution_count": null,
   "id": "b3e0567b",
   "metadata": {},
   "outputs": [],
   "source": [
    "ans: spam[-1] will give an output as --> 'd'"
   ]
  },
  {
   "cell_type": "code",
   "execution_count": null,
   "id": "754e64ff",
   "metadata": {},
   "outputs": [],
   "source": [
    "5. What is the value of spam[:2]?"
   ]
  },
  {
   "cell_type": "code",
   "execution_count": 5,
   "id": "4ae89dc6",
   "metadata": {},
   "outputs": [
    {
     "data": {
      "text/plain": [
       "['a', 'b']"
      ]
     },
     "execution_count": 5,
     "metadata": {},
     "output_type": "execute_result"
    }
   ],
   "source": [
    "ans: spam[:2] will give an output --> ['a','b']"
   ]
  },
  {
   "cell_type": "code",
   "execution_count": null,
   "id": "4ea035ee",
   "metadata": {},
   "outputs": [],
   "source": [
    "Let's pretend bacon has the list [3.14,'cat',11,'cat',True] for the next three questions."
   ]
  },
  {
   "cell_type": "code",
   "execution_count": null,
   "id": "8ac86ab8",
   "metadata": {},
   "outputs": [],
   "source": [
    "6. What is the value of bacon.index('cat')?"
   ]
  },
  {
   "cell_type": "code",
   "execution_count": 7,
   "id": "74e9e717",
   "metadata": {},
   "outputs": [
    {
     "data": {
      "text/plain": [
       "1"
      ]
     },
     "execution_count": 7,
     "metadata": {},
     "output_type": "execute_result"
    }
   ],
   "source": [
    "ans: bacon.index('cat') will given an output as 1"
   ]
  },
  {
   "cell_type": "code",
   "execution_count": null,
   "id": "7b0a8363",
   "metadata": {},
   "outputs": [],
   "source": [
    "7. How does bacon.append(99) change the look of the list value in bacon?"
   ]
  },
  {
   "cell_type": "code",
   "execution_count": null,
   "id": "fd179583",
   "metadata": {},
   "outputs": [],
   "source": [
    "ans: bacon will look like after append operation --> [3.14,'cat',11,'cat',True,99]"
   ]
  },
  {
   "cell_type": "code",
   "execution_count": null,
   "id": "9563e803",
   "metadata": {},
   "outputs": [],
   "source": [
    "8. How does bacon.remove('cat') change the look of the list in bacon?"
   ]
  },
  {
   "cell_type": "code",
   "execution_count": 6,
   "id": "f1c4ec4e",
   "metadata": {},
   "outputs": [],
   "source": [
    "ans:\n",
    "bacon.remove('cat') will remove first occurance of a passed argument \n",
    "result will be bacon = [3.14, 11, 'cat', True]"
   ]
  },
  {
   "cell_type": "code",
   "execution_count": null,
   "id": "edb3a97b",
   "metadata": {},
   "outputs": [],
   "source": [
    "9. What are the list concatenation and list replication operators?"
   ]
  },
  {
   "cell_type": "code",
   "execution_count": null,
   "id": "d727cdd5",
   "metadata": {},
   "outputs": [],
   "source": [
    "ans:\n",
    "    + operator concatenates 2 lists  a=[1,2], b=[3,4]--> a+b will be [1,2,3,4]\n",
    "    * operator replicates list    a=[1,2]--> a*2 will be [1,2,1,2]"
   ]
  },
  {
   "cell_type": "code",
   "execution_count": null,
   "id": "2a010954",
   "metadata": {},
   "outputs": [],
   "source": [
    "10. What is difference between the list methods append() and insert()?"
   ]
  },
  {
   "cell_type": "code",
   "execution_count": null,
   "id": "8b9a9c0e",
   "metadata": {},
   "outputs": [],
   "source": [
    "ans:\n",
    "append() --> append adds a passed element at the end of a list\n",
    "insert() --> insert adds a passed element at a specific index based on index number we pass"
   ]
  },
  {
   "cell_type": "code",
   "execution_count": null,
   "id": "ff857fac",
   "metadata": {},
   "outputs": [],
   "source": [
    "11. What are the two methods for removing items from a list?"
   ]
  },
  {
   "cell_type": "code",
   "execution_count": null,
   "id": "3555968a",
   "metadata": {},
   "outputs": [],
   "source": [
    "ans:  remove() and pop()\n",
    "remove() --> we need to specify element as an argument inside remove()\n",
    "pop() -----> we need to specify index as an argument inside pop()"
   ]
  },
  {
   "cell_type": "code",
   "execution_count": null,
   "id": "319a87cb",
   "metadata": {},
   "outputs": [],
   "source": [
    "12. Describe how list values and string values are identical."
   ]
  },
  {
   "cell_type": "code",
   "execution_count": null,
   "id": "3e7dc45c",
   "metadata": {},
   "outputs": [],
   "source": [
    "ans: Lists and strings both are iterables\n",
    "     we can perform indexing,slicing on both"
   ]
  },
  {
   "cell_type": "code",
   "execution_count": null,
   "id": "ff2a1735",
   "metadata": {},
   "outputs": [],
   "source": [
    "13. What's the difference between tuples and lists?"
   ]
  },
  {
   "cell_type": "code",
   "execution_count": null,
   "id": "05444f9e",
   "metadata": {},
   "outputs": [],
   "source": [
    "ans:\n",
    "---------------------------------------------------------------------\n",
    "          tuples                    ||           list\n",
    "---------------------------------------------------------------------\n",
    "1) tuples are represented by ()     || Lists are represented by []\n",
    "2)immutable                         || Mutable\n"
   ]
  },
  {
   "cell_type": "code",
   "execution_count": null,
   "id": "2d097eb6",
   "metadata": {},
   "outputs": [],
   "source": [
    "14. How do you type a tuple value that only contains the integer 42?"
   ]
  },
  {
   "cell_type": "code",
   "execution_count": null,
   "id": "1a44b56d",
   "metadata": {},
   "outputs": [],
   "source": [
    "ans:\n",
    "a=(42)\n",
    "type(a) is a tuple"
   ]
  },
  {
   "cell_type": "code",
   "execution_count": null,
   "id": "6b1f78e4",
   "metadata": {},
   "outputs": [],
   "source": [
    "15. How do you get a list value's tuple form? How do you get a tuple value's list form?"
   ]
  },
  {
   "cell_type": "code",
   "execution_count": null,
   "id": "2f40a89c",
   "metadata": {},
   "outputs": [],
   "source": [
    "ans: We can do typecasting between tuple and list\n",
    "------------------------------------------\n",
    "    tuple to list      ||    list to tuple\n",
    "------------------------------------------\n",
    "     a=(1,3,5)         ||  a=[3,5,7]\n",
    "     b=list(a)         ||  b=tuple(a)\n",
    "Now a will be [1,3,5]  ||Now a will be (3,5,7) "
   ]
  },
  {
   "cell_type": "code",
   "execution_count": null,
   "id": "8d082e64",
   "metadata": {},
   "outputs": [],
   "source": [
    "16. Variables that \"contain\" list values are not necessarily lists themselves. Instead, what do they\n",
    "contain?"
   ]
  },
  {
   "cell_type": "code",
   "execution_count": 8,
   "id": "04201e57",
   "metadata": {},
   "outputs": [],
   "source": [
    "ans:\n",
    "Variables that \"contain\" list values are not necessarily lists themselves, They can be tuple or dictionary\n",
    "l=([1,2,3],3)\n",
    "l2={'a':[1,3,4],'b':[6,8]}\n",
    "\n",
    "We can list values in tuples and dictionaries"
   ]
  },
  {
   "cell_type": "code",
   "execution_count": null,
   "id": "3ef48015",
   "metadata": {},
   "outputs": [],
   "source": [
    "17. How do you distinguish between copy.copy() and copy.deepcopy()?"
   ]
  },
  {
   "cell_type": "code",
   "execution_count": null,
   "id": "a07392e9",
   "metadata": {},
   "outputs": [],
   "source": [
    "ans:\n",
    "copy() and deepcopy()  functions present is copy module\n",
    "eg: l1=[1,2,3]\n",
    "    l2=copy.copy(l1)\n",
    "    l3=copy.deepcopy(l1)\n",
    "    \n",
    "copy() is a shallow copy which means 2 varaiables points to a same memory location, alter in 1 variable value reflects in another variable's values\n",
    "deepcopy() means 2 variables points to 2 different memory locations but l1 data is copied to l3 when we use deepcopy() function, we wont find any dependencies between 2 variables \n",
    "           means changes in 1 variable wont reflect in other variable."
   ]
  }
 ],
 "metadata": {
  "kernelspec": {
   "display_name": "Python 3 (ipykernel)",
   "language": "python",
   "name": "python3"
  },
  "language_info": {
   "codemirror_mode": {
    "name": "ipython",
    "version": 3
   },
   "file_extension": ".py",
   "mimetype": "text/x-python",
   "name": "python",
   "nbconvert_exporter": "python",
   "pygments_lexer": "ipython3",
   "version": "3.9.7"
  }
 },
 "nbformat": 4,
 "nbformat_minor": 5
}
